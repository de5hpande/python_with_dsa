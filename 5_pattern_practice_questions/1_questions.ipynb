{
 "cells": [
  {
   "cell_type": "markdown",
   "metadata": {},
   "source": [
    "## Question 1\n",
    "Square of side 'N'\n",
    "Problem Description: You are given an integer n. Your task is to return a square pattern of size n x n made up of the character '*', represented as a list of strings.\n",
    "\n",
    "Input Parameters:\n",
    "\n",
    "n (int): The size of the square (number of rows and columns).\n",
    "\n",
    "\n",
    "Output:\n",
    "\n",
    "A list of strings where each string is a row of n characters.\n",
    "\n",
    "Example:\n",
    "\n",
    "Input: 3\n",
    "Output: ['***', '***', '***']\n",
    " \n",
    "Input: 5\n",
    "Output: ['*****', '*****', '*****', '*****', '*****']"
   ]
  },
  {
   "cell_type": "code",
   "execution_count": 2,
   "metadata": {},
   "outputs": [
    {
     "data": {
      "text/plain": [
       "['*****', '*****', '*****', '*****', '*****']"
      ]
     },
     "execution_count": 2,
     "metadata": {},
     "output_type": "execute_result"
    }
   ],
   "source": [
    "def generate_square(n):\n",
    "    \"\"\"\n",
    "    Function to return a square pattern of '*' of side n as a list of strings.\n",
    "    \n",
    "    Parameters:\n",
    "    n (int): The size of the square.\n",
    "    \n",
    "    Returns:\n",
    "    list: A list of strings where each string represents a row of the square.\n",
    "    \"\"\"\n",
    "    # Your code here\n",
    "    square=[]\n",
    "    \n",
    "    for _ in range(n):\n",
    "        row='*'*n\n",
    "        square.append(row)\n",
    "    return square\n",
    "\n",
    "generate_square(5)"
   ]
  },
  {
   "cell_type": "markdown",
   "metadata": {},
   "source": [
    "## Question 2\n",
    "\n",
    "Hollow Square of side 'N'\n",
    "Problem Description:\n",
    "\n",
    "You are given an integer n. Your task is to return a hollow square pattern of size n x n made up of the character '*', represented as a list of strings. The hollow square has '*' on the border, and spaces ' ' in the middle (except for side lengths of 1 and 2).\n",
    "\n",
    "\n",
    "\n",
    "Input Parameters:\n",
    "\n",
    "n (int): The size of the square (number of rows and columns).\n",
    "\n",
    "\n",
    "\n",
    "Output:\n",
    "\n",
    "A list of strings where each string is a row of n characters, representing a hollow square.\n",
    "\n",
    "\n",
    "Example:\n",
    "\n",
    "Input: 3\n",
    "Output: ['***', '* *', '***']\n",
    " \n",
    "Input: 5\n",
    "Output: ['*****', '*   *', '*   *', '*   *', '*****']"
   ]
  },
  {
   "cell_type": "code",
   "execution_count": 3,
   "metadata": {},
   "outputs": [
    {
     "name": "stdout",
     "output_type": "stream",
     "text": [
      "['***', '* *', '***']\n",
      "['*****', '*   *', '*   *', '*   *', '*****']\n"
     ]
    }
   ],
   "source": [
    "def hollow_square(n):\n",
    "    if n == 1:\n",
    "        return ['*']\n",
    "    elif n == 2:\n",
    "        return ['**', '**']\n",
    "    \n",
    "    square = []\n",
    "    for i in range(n):\n",
    "        if i == 0 or i == n - 1:\n",
    "            # First and last row: all '*'\n",
    "            row = '*' * n\n",
    "        else:\n",
    "            # Middle rows: '*' at the start and end, spaces in between\n",
    "            row = '*' + ' ' * (n - 2) + '*'\n",
    "        square.append(row)\n",
    "    \n",
    "    return square\n",
    "\n",
    "# Example usage:\n",
    "print(hollow_square(3))  # Output: ['***', '* *', '***']\n",
    "print(hollow_square(5))  # Output: ['*****', '*   *', '*   *', '*   *', '*****']"
   ]
  },
  {
   "cell_type": "markdown",
   "metadata": {},
   "source": [
    "## Question 3\n",
    "Rectangle Pattern\n",
    "Problem Description:\n",
    "\n",
    "You are given two integers, n and m. Your task is to return a rectangle pattern of '*', where n represents the number of rows (length) and m represents the number of columns (breadth).\n",
    "\n",
    "\n",
    "\n",
    "Input:\n",
    "\n",
    "Two integers n and m, where 1 <= n, m <= 100.\n",
    "\n",
    "\n",
    "\n",
    "Output:\n",
    "\n",
    "A list of strings where each string represents a row of the rectangle pattern."
   ]
  },
  {
   "cell_type": "code",
   "execution_count": 2,
   "metadata": {},
   "outputs": [
    {
     "data": {
      "text/plain": [
       "['******', '******', '******', '******']"
      ]
     },
     "execution_count": 2,
     "metadata": {},
     "output_type": "execute_result"
    }
   ],
   "source": [
    "def generate_rectangle_pattern(n, m):\n",
    "    # Create a list of strings where each string is a row of '*' of length m\n",
    "    rectangle = ['*' * m for _ in range(n)]\n",
    "    return rectangle\n",
    "\n",
    "# Example usage:\n",
    "n = 4\n",
    "m = 6\n",
    "pattern = generate_rectangle_pattern(n, m)\n",
    "pattern"
   ]
  },
  {
   "cell_type": "markdown",
   "metadata": {},
   "source": [
    "Right Angled Triangle\n",
    "Problem Description:\n",
    "\n",
    "You are given an integer n. Your task is to return a right-angled triangle pattern of '*' where each side has n characters, represented as a list of strings. The triangle has '*' characters, starting with 1 star in the first row, 2 stars in the second row, and so on until the last row has n stars.\n",
    "\n",
    "\n",
    "\n",
    "Input Parameters:\n",
    "\n",
    "n (int): The height and base of the right-angled triangle.\n",
    "\n",
    "\n",
    "\n",
    "Output:\n",
    "\n",
    "A list of strings where each string is a row of '*' characters that increases in length from 1 to n."
   ]
  },
  {
   "cell_type": "code",
   "execution_count": 6,
   "metadata": {},
   "outputs": [
    {
     "name": "stdout",
     "output_type": "stream",
     "text": [
      "['*', '**', '***', '****', '*****']\n",
      "*\n",
      "**\n",
      "***\n",
      "****\n",
      "*****\n"
     ]
    }
   ],
   "source": [
    "def generate_right_angled_triangle(n):\n",
    "    # Create a list of strings where each string has an increasing number of '*' from 1 to n\n",
    "    triangle = ['*' * i for i in range(1, n + 1)]\n",
    "    return triangle\n",
    "\n",
    "# Example usage:\n",
    "n = 5\n",
    "pattern = generate_right_angled_triangle(n)\n",
    "print(pattern)\n",
    "for row in pattern:\n",
    "    print(row)"
   ]
  },
  {
   "cell_type": "markdown",
   "metadata": {},
   "source": [
    "Inverted Right Angled Triangle\n",
    "Problem Description:\n",
    "\n",
    "You are given an integer n. Your task is to return an inverted right-angled triangle pattern of '*' where each side has n characters, represented as a list of strings. The first row should have n stars, the second row n-1 stars, and so on, until the last row has 1 star.\n",
    "\n",
    "\n",
    "\n",
    "Input Parameters:\n",
    "\n",
    "n (int): The height and base of the inverted right-angled triangle.\n",
    "\n",
    "\n",
    "\n",
    "Output:\n",
    "\n",
    "A list of strings where each string is a row of '*' characters that decreases in length from n to 1."
   ]
  },
  {
   "cell_type": "code",
   "execution_count": 7,
   "metadata": {},
   "outputs": [
    {
     "name": "stdout",
     "output_type": "stream",
     "text": [
      "*****\n",
      "****\n",
      "***\n",
      "**\n",
      "*\n"
     ]
    }
   ],
   "source": [
    "def generate_inverted_right_angled_triangle(n):\n",
    "    # Create a list of strings where each string has a decreasing number of '*' from n to 1\n",
    "    triangle = ['*' * i for i in range(n, 0, -1)]\n",
    "    return triangle\n",
    "\n",
    "# Example usage:\n",
    "n = 5\n",
    "pattern = generate_inverted_right_angled_triangle(n)\n",
    "for row in pattern:\n",
    "    print(row)"
   ]
  },
  {
   "cell_type": "markdown",
   "metadata": {},
   "source": [
    "Pyramid Pattern\n",
    "Problem Description:\n",
    "\n",
    "You are given an integer n. Your task is to return a pyramid pattern of '*' where each side has n rows, represented as a list of strings. The pyramid is centered, with 1 star in the first row, 3 stars in the second row, and so on, increasing by 2 stars per row until the base row has 2n - 1 stars.\n",
    "\n",
    "\n",
    "\n",
    "Input:\n",
    "\n",
    "A single integer n, where 1 <= n <= 100.\n",
    "\n",
    "\n",
    "\n",
    "Output:\n",
    "\n",
    "A list of strings where each string contains stars ('*') centered, forming a pyramid shape. Each row has an increasing number of stars, with appropriate spaces for centering."
   ]
  },
  {
   "cell_type": "code",
   "execution_count": 1,
   "metadata": {},
   "outputs": [
    {
     "name": "stdout",
     "output_type": "stream",
     "text": [
      "    *    \n",
      "   ***   \n",
      "  *****  \n",
      " ******* \n",
      "*********\n",
      "['  *  ', ' *** ', '*****']\n",
      "['    *    ', '   ***   ', '  *****  ', ' ******* ', '*********']\n"
     ]
    }
   ],
   "source": [
    "def pyramid_pattern(n):\n",
    "    result = []\n",
    "    for i in range(n):\n",
    "        stars = '*' * (2 * i + 1)  # Calculate number of stars in the current row\n",
    "        spaces = ' ' * (n - i - 1)  # Calculate leading spaces for centering\n",
    "        result.append(spaces + stars + spaces)  # Construct the row\n",
    "    return result\n",
    "\n",
    "# Example usage\n",
    "n = 5\n",
    "pyramid = pyramid_pattern(n)\n",
    "for row in pyramid:\n",
    "    print(row)\n",
    "#or\n",
    "def pyramid_pattern(n):\n",
    "    result = []\n",
    "    for i in range(1, n + 1):  # i represents row number (1 to n)\n",
    "        spaces = ' ' * (n - i)  # Leading spaces\n",
    "        stars = '*' * (2 * i - 1)  # Stars in the row\n",
    "        result.append(spaces + stars + spaces)  # Form the row and add to result\n",
    "    return result\n",
    "\n",
    "# Example Usage:\n",
    "print(pyramid_pattern(3))  \n",
    "print(pyramid_pattern(5))  \n"
   ]
  },
  {
   "cell_type": "markdown",
   "metadata": {},
   "source": [
    "\n",
    "Inverted Pyramid Pattern\n",
    "Problem Description\n",
    "\n",
    "You are given an integer n. Your task is to return an inverted pyramid pattern of '*', where each side has n rows, represented as a list of strings. The first row has 2n - 1 stars, the second row has 2n - 3 stars, and so on, until the last row has 1 star, with each row centered using spaces.\n",
    "\n",
    "\n",
    "\n",
    "Input Parameters:\n",
    "\n",
    "n (int): The number of rows in the inverted pyramid.\n",
    "\n",
    "\n",
    "\n",
    "Output:\n",
    "\n",
    "A list of strings where each string represents a row of the inverted pyramid."
   ]
  },
  {
   "cell_type": "code",
   "execution_count": 2,
   "metadata": {},
   "outputs": [
    {
     "name": "stdout",
     "output_type": "stream",
     "text": [
      "['*****', ' *** ', '  *  ']\n",
      "['*********', ' ******* ', '  *****  ', '   ***   ', '    *    ']\n"
     ]
    }
   ],
   "source": [
    "def inverted_pyramid_pattern(n):\n",
    "    result = []\n",
    "    for i in range(n):  # i represents row index (0 to n-1)\n",
    "        spaces = ' ' * i  # Leading spaces\n",
    "        stars = '*' * (2 * (n - i) - 1)  # Stars in the row\n",
    "        result.append(spaces + stars + spaces)  # Construct and store row\n",
    "    return result\n",
    "\n",
    "# Example Usage:\n",
    "print(inverted_pyramid_pattern(3))  \n",
    "print(inverted_pyramid_pattern(5))  \n"
   ]
  },
  {
   "cell_type": "markdown",
   "metadata": {},
   "source": [
    "Right Angled Triangle with Numbers\n",
    "Problem Description:\n",
    "\n",
    "You are given an integer n. Your task is to return a right-angled triangle pattern where each row contains repeated digits. The first row contains the number 1 repeated once, the second row contains the number 2 repeated twice, and so on until the nth row contains the number n repeated n times.\n",
    "\n",
    "\n",
    "\n",
    "Input:\n",
    "\n",
    "A single integer n, where 1 <= n <= 100.\n",
    "\n",
    "\n",
    "\n",
    "Output:\n",
    "\n",
    "A list of strings where each string represents a row in the triangle. The ith row contains the digit i repeated i times."
   ]
  },
  {
   "cell_type": "code",
   "execution_count": 3,
   "metadata": {},
   "outputs": [
    {
     "name": "stdout",
     "output_type": "stream",
     "text": [
      "['1', '22', '333']\n",
      "['1', '22', '333', '4444', '55555']\n"
     ]
    }
   ],
   "source": [
    "def right_angled_triangle(n):\n",
    "    result = []\n",
    "    for i in range(1, n + 1):  # i represents the row number (1 to n)\n",
    "        row = str(i) * i  # Create the row by repeating the digit i, i times\n",
    "        result.append(row)  # Store in the list\n",
    "    return result\n",
    "\n",
    "# Example Usage:\n",
    "print(right_angled_triangle(3))  \n",
    "print(right_angled_triangle(5))  \n"
   ]
  },
  {
   "cell_type": "markdown",
   "metadata": {},
   "source": [
    "Floyds Triangle\n",
    "Problem Description:\n",
    "\n",
    "You are given an integer n. Your task is to return the first n rows of Floyd’s Triangle, represented as a list of strings. Floyd's Triangle is a triangular array of natural numbers where the first row contains 1, the second row contains 2 and 3, the third row contains 4, 5, and 6, and so on.\n",
    "\n",
    "\n",
    "\n",
    "Input:\n",
    "\n",
    "A single integer n, where 1 <= n <= 100.\n",
    "\n",
    "\n",
    "\n",
    "Output:\n",
    "\n",
    "A list of strings where each string represents a row in Floyd's Triangle.\n",
    "\n"
   ]
  },
  {
   "cell_type": "code",
   "execution_count": 4,
   "metadata": {},
   "outputs": [
    {
     "name": "stdout",
     "output_type": "stream",
     "text": [
      "['1', '2 3', '4 5 6']\n",
      "['1', '2 3', '4 5 6', '7 8 9 10', '11 12 13 14 15']\n"
     ]
    }
   ],
   "source": [
    "def floyds_triangle(n):\n",
    "    result = []\n",
    "    num = 1  # Starting number\n",
    "    for i in range(1, n + 1):  # i represents the row number (1 to n)\n",
    "        row_numbers = [str(num + j) for j in range(i)]  # Generate numbers for the row\n",
    "        row = \" \".join(row_numbers)  # Convert list to space-separated string\n",
    "        result.append(row)  # Store in the list\n",
    "        num += i  # Move to the next number for the next row\n",
    "    return result\n",
    "\n",
    "# Example Usage:\n",
    "print(floyds_triangle(3))  \n",
    "print(floyds_triangle(5))  \n"
   ]
  },
  {
   "cell_type": "markdown",
   "metadata": {},
   "source": [
    "Diamond Pattern\n",
    "Problem Description:\n",
    "\n",
    "You are given an integer n. Your task is to return a diamond pattern of '*' with n rows for the upper part (the widest row will have 2n - 1 stars), and the lower part is the mirrored version of the upper part. Each row should be centered with appropriate spaces.\n",
    "\n",
    "\n",
    "\n",
    "Input:\n",
    "\n",
    "A single integer n, where 1 <= n <= 100.\n",
    "\n",
    "\n",
    "\n",
    "Output:\n",
    "\n",
    "A list of strings where each string represents a row in the diamond pattern.\n",
    "\n"
   ]
  },
  {
   "cell_type": "code",
   "execution_count": 5,
   "metadata": {},
   "outputs": [
    {
     "name": "stdout",
     "output_type": "stream",
     "text": [
      "  *  \n",
      " *** \n",
      "*****\n",
      " *** \n",
      "  *  \n",
      "    *    \n",
      "   ***   \n",
      "  *****  \n",
      " ******* \n",
      "*********\n",
      " ******* \n",
      "  *****  \n",
      "   ***   \n",
      "    *    \n"
     ]
    }
   ],
   "source": [
    "def diamond_pattern(n):\n",
    "    result = []  # List to store each row of the diamond\n",
    "    \n",
    "    # Upper part of the diamond (including the middle row)\n",
    "    for i in range(1, n + 1):\n",
    "        stars = '*' * (2 * i - 1)  # Generate the stars\n",
    "        spaces = ' ' * (n - i)  # Generate spaces for centering\n",
    "        result.append(spaces + stars + spaces)  # Append the centered row\n",
    "\n",
    "    # Lower part of the diamond (excluding the middle row)\n",
    "    for i in range(n - 1, 0, -1):\n",
    "        stars = '*' * (2 * i - 1)\n",
    "        spaces = ' ' * (n - i)\n",
    "        result.append(spaces + stars + spaces)\n",
    "\n",
    "    return result\n",
    "\n",
    "# Example Usage:\n",
    "print(\"\\n\".join(diamond_pattern(3)))  \n",
    "print(\"\\n\".join(diamond_pattern(5)))  \n"
   ]
  }
 ],
 "metadata": {
  "kernelspec": {
   "display_name": "Python 3",
   "language": "python",
   "name": "python3"
  },
  "language_info": {
   "codemirror_mode": {
    "name": "ipython",
    "version": 3
   },
   "file_extension": ".py",
   "mimetype": "text/x-python",
   "name": "python",
   "nbconvert_exporter": "python",
   "pygments_lexer": "ipython3",
   "version": "3.12.0"
  }
 },
 "nbformat": 4,
 "nbformat_minor": 2
}
